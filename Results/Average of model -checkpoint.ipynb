{
 "cells": [
  {
   "cell_type": "code",
   "execution_count": 1,
   "id": "9d6a8e13",
   "metadata": {},
   "outputs": [],
   "source": [
    "# Import Dependencies\n",
    "import pandas as pd\n",
    "import numpy as np\n",
    "import matplotlib.pyplot as plt"
   ]
  },
  {
   "cell_type": "code",
   "execution_count": 2,
   "id": "6036c9fa",
   "metadata": {},
   "outputs": [],
   "source": [
    "df= pd.read_csv('final_model_data.csv')"
   ]
  },
  {
   "cell_type": "code",
   "execution_count": 3,
   "id": "b9ddc702",
   "metadata": {},
   "outputs": [
    {
     "data": {
      "text/html": [
       "<div>\n",
       "<style scoped>\n",
       "    .dataframe tbody tr th:only-of-type {\n",
       "        vertical-align: middle;\n",
       "    }\n",
       "\n",
       "    .dataframe tbody tr th {\n",
       "        vertical-align: top;\n",
       "    }\n",
       "\n",
       "    .dataframe thead th {\n",
       "        text-align: right;\n",
       "    }\n",
       "</style>\n",
       "<table border=\"1\" class=\"dataframe\">\n",
       "  <thead>\n",
       "    <tr style=\"text-align: right;\">\n",
       "      <th></th>\n",
       "      <th>Unnamed: 0</th>\n",
       "      <th>Unnamed: 0.1</th>\n",
       "      <th>Model</th>\n",
       "      <th>Oversample</th>\n",
       "      <th>Scaler</th>\n",
       "      <th>Neighbors</th>\n",
       "      <th>precision</th>\n",
       "      <th>recall</th>\n",
       "      <th>f1-score</th>\n",
       "      <th>support</th>\n",
       "    </tr>\n",
       "  </thead>\n",
       "  <tbody>\n",
       "    <tr>\n",
       "      <th>0</th>\n",
       "      <td>0</td>\n",
       "      <td>Active</td>\n",
       "      <td>K-Nearest Neighbors (kNN)</td>\n",
       "      <td>False</td>\n",
       "      <td>StandardScaler()</td>\n",
       "      <td>22</td>\n",
       "      <td>0.857555</td>\n",
       "      <td>0.900121</td>\n",
       "      <td>0.878323</td>\n",
       "      <td>3304.000000</td>\n",
       "    </tr>\n",
       "    <tr>\n",
       "      <th>1</th>\n",
       "      <td>1</td>\n",
       "      <td>Inactive</td>\n",
       "      <td>K-Nearest Neighbors (kNN)</td>\n",
       "      <td>False</td>\n",
       "      <td>StandardScaler()</td>\n",
       "      <td>22</td>\n",
       "      <td>0.401089</td>\n",
       "      <td>0.309091</td>\n",
       "      <td>0.349131</td>\n",
       "      <td>715.000000</td>\n",
       "    </tr>\n",
       "    <tr>\n",
       "      <th>2</th>\n",
       "      <td>2</td>\n",
       "      <td>accuracy</td>\n",
       "      <td>K-Nearest Neighbors (kNN)</td>\n",
       "      <td>False</td>\n",
       "      <td>StandardScaler()</td>\n",
       "      <td>22</td>\n",
       "      <td>0.794974</td>\n",
       "      <td>0.794974</td>\n",
       "      <td>0.794974</td>\n",
       "      <td>0.794974</td>\n",
       "    </tr>\n",
       "    <tr>\n",
       "      <th>3</th>\n",
       "      <td>3</td>\n",
       "      <td>macro avg</td>\n",
       "      <td>K-Nearest Neighbors (kNN)</td>\n",
       "      <td>False</td>\n",
       "      <td>StandardScaler()</td>\n",
       "      <td>22</td>\n",
       "      <td>0.629322</td>\n",
       "      <td>0.604606</td>\n",
       "      <td>0.613727</td>\n",
       "      <td>4019.000000</td>\n",
       "    </tr>\n",
       "    <tr>\n",
       "      <th>4</th>\n",
       "      <td>4</td>\n",
       "      <td>weighted avg</td>\n",
       "      <td>K-Nearest Neighbors (kNN)</td>\n",
       "      <td>False</td>\n",
       "      <td>StandardScaler()</td>\n",
       "      <td>22</td>\n",
       "      <td>0.776347</td>\n",
       "      <td>0.794974</td>\n",
       "      <td>0.784177</td>\n",
       "      <td>4019.000000</td>\n",
       "    </tr>\n",
       "  </tbody>\n",
       "</table>\n",
       "</div>"
      ],
      "text/plain": [
       "   Unnamed: 0  Unnamed: 0.1                      Model  Oversample  \\\n",
       "0           0        Active  K-Nearest Neighbors (kNN)       False   \n",
       "1           1      Inactive  K-Nearest Neighbors (kNN)       False   \n",
       "2           2      accuracy  K-Nearest Neighbors (kNN)       False   \n",
       "3           3     macro avg  K-Nearest Neighbors (kNN)       False   \n",
       "4           4  weighted avg  K-Nearest Neighbors (kNN)       False   \n",
       "\n",
       "             Scaler  Neighbors  precision    recall  f1-score      support  \n",
       "0  StandardScaler()         22   0.857555  0.900121  0.878323  3304.000000  \n",
       "1  StandardScaler()         22   0.401089  0.309091  0.349131   715.000000  \n",
       "2  StandardScaler()         22   0.794974  0.794974  0.794974     0.794974  \n",
       "3  StandardScaler()         22   0.629322  0.604606  0.613727  4019.000000  \n",
       "4  StandardScaler()         22   0.776347  0.794974  0.784177  4019.000000  "
      ]
     },
     "execution_count": 3,
     "metadata": {},
     "output_type": "execute_result"
    }
   ],
   "source": [
    "df.head()"
   ]
  },
  {
   "cell_type": "code",
   "execution_count": 4,
   "id": "33007ae4",
   "metadata": {},
   "outputs": [],
   "source": [
    "accuracy_df = df[df['Unnamed: 0.1'] == 'accuracy']"
   ]
  },
  {
   "cell_type": "code",
   "execution_count": 5,
   "id": "99a188df",
   "metadata": {},
   "outputs": [],
   "source": [
    "# Extract the accuracy values\n",
    "accuracy_values = accuracy_df['precision'].tolist()"
   ]
  },
  {
   "cell_type": "code",
   "execution_count": 6,
   "id": "af57d27c",
   "metadata": {},
   "outputs": [],
   "source": [
    "# Calculate the average accuracy\n",
    "average_accuracy = sum(accuracy_values) / len(accuracy_values)"
   ]
  },
  {
   "cell_type": "code",
   "execution_count": 7,
   "id": "d64821b8",
   "metadata": {},
   "outputs": [
    {
     "name": "stdout",
     "output_type": "stream",
     "text": [
      "Average Accuracy: 0.8611553454424815\n"
     ]
    }
   ],
   "source": [
    "# Print the average accuracy\n",
    "print(\"Average Accuracy:\", average_accuracy)"
   ]
  },
  {
   "cell_type": "code",
   "execution_count": 8,
   "id": "8f571caa",
   "metadata": {},
   "outputs": [
    {
     "data": {
      "image/png": "[encoded data removed]",
      "text/plain": [
       "<Figure size 432x288 with 1 Axes>"
      ]
     },
     "metadata": {
      "needs_background": "light"
     },
     "output_type": "display_data"
    }
   ],
   "source": [
    "\n",
    "# Create a bar graph to visualize the average accuracy of different models\n",
    "model_names = accuracy_df['Model'].tolist()\n",
    "\n",
    "plt.bar(model_names, accuracy_values)\n",
    "plt.title('Average Accuracy of Different Models')\n",
    "plt.xlabel('Model')\n",
    "plt.ylabel('Accuracy')\n",
    "plt.xticks(rotation=45)\n",
    "plt.show()"
   ]
  },
  {
   "cell_type": "code",
   "execution_count": null,
   "id": "a25cadf7",
   "metadata": {},
   "outputs": [],
   "source": []
  }
 ],
 "metadata": {
  "kernelspec": {
   "display_name": "Python 3 (ipykernel)",
   "language": "python",
   "name": "python3"
  },
  "language_info": {
   "codemirror_mode": {
    "name": "ipython",
    "version": 3
   },
   "file_extension": ".py",
   "mimetype": "text/x-python",
   "name": "python",
   "nbconvert_exporter": "python",
   "pygments_lexer": "ipython3",
   "version": "3.7.7"
  }
 },
 "nbformat": 4,
 "nbformat_minor": 5
}
